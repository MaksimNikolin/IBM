{
 "cells": [
  {
   "cell_type": "code",
   "execution_count": 1,
   "id": "4b01a3af-b0c8-4066-bf74-642fac6748e7",
   "metadata": {},
   "outputs": [],
   "source": [
    "import sys\n",
    "import requests\n",
    "from bs4 import BeautifulSoup\n",
    "import re\n",
    "import unicodedata\n",
    "import pandas as pd"
   ]
  },
  {
   "cell_type": "code",
   "execution_count": 2,
   "id": "19187220-a6af-4ead-9825-d3c6cbdd47ae",
   "metadata": {},
   "outputs": [],
   "source": [
    "def date_time(table_cells):\n",
    "    \"\"\"\n",
    "    This function returns the data and time from the HTML table cell\n",
    "    Input: the element of a table data cell extracts extra row\n",
    "    \"\"\"\n",
    "    return [data_time.strip() for data_time in list(table_cells.strings)][0:2]\n",
    "\n",
    "def booster_version(table_cells):\n",
    "    \"\"\"\n",
    "    This function returns the booster version from the HTML table cell\n",
    "    Input: the element of a table data cell extracts extra row\n",
    "    \"\"\"\n",
    "    out=''.join([booster_version for i, booster_version in enumerate(table_cells.strings) if i%2==0][0:-1])\n",
    "    return out\n",
    "\n",
    "def landing_status(table_cells):\n",
    "    \"\"\"\n",
    "    This function returns the landing status from the HTML table cell\n",
    "    Input: the element of a table data cell extracts extra row\n",
    "    \"\"\"\n",
    "    out=[i for i in table_cells.strings][0]\n",
    "    return out\n",
    "\n",
    "def get_mass(table_cells):\n",
    "    mass=unicodedata.normalize(\"NFKD\", table_cells.text).strip()\n",
    "    if mass:\n",
    "        mass.find(\"kg\")\n",
    "        new_mass=mass[0:mass.find(\"kg\")+2]\n",
    "    else:\n",
    "        new_mass=0\n",
    "    return new_mass\n",
    "\n",
    "def extract_column_from_header(row):\n",
    "    \"\"\"\n",
    "    This function returns the landing status from the HTML table cell\n",
    "    Input: the  element of a table data cell extracts extra row\n",
    "    \"\"\"\n",
    "    if (row.br):\n",
    "        row.br.extract()\n",
    "    if row.a:\n",
    "        row.a.extract()\n",
    "    if row.sup:\n",
    "        row.sup.extract()\n",
    "        \n",
    "    column_name = ' '.join(row.contents)\n",
    "    \n",
    "    # Filter the digit and empty names\n",
    "    if not(column_name.strip().isdigit()):\n",
    "        column_name = column_name.strip()\n",
    "        return column_name"
   ]
  },
  {
   "cell_type": "code",
   "execution_count": 3,
   "id": "a7a84049-d979-44ec-a313-425ba71ab7f9",
   "metadata": {},
   "outputs": [],
   "source": [
    "static_url = \"https://en.wikipedia.org/w/index.php?title=List_of_Falcon_9_and_Falcon_Heavy_launches&oldid=1027686922\""
   ]
  },
  {
   "cell_type": "code",
   "execution_count": 4,
   "id": "7a0c23ab-03fd-4762-9159-8beb080697df",
   "metadata": {},
   "outputs": [],
   "source": [
    "data = requests.get(static_url).text"
   ]
  },
  {
   "cell_type": "code",
   "execution_count": 5,
   "id": "c6ed4bff-8214-40c8-b257-f38ba457f855",
   "metadata": {},
   "outputs": [],
   "source": [
    "soup = BeautifulSoup(data)"
   ]
  },
  {
   "cell_type": "code",
   "execution_count": 6,
   "id": "16e2dad9-d012-481a-9308-125bc60cd0b9",
   "metadata": {},
   "outputs": [],
   "source": [
    "html_tables = soup.find_all('table')"
   ]
  },
  {
   "cell_type": "code",
   "execution_count": 7,
   "id": "c349c25d-2757-4843-9e23-60c877f18b8e",
   "metadata": {},
   "outputs": [],
   "source": [
    "#Let's print the third table and check its content\n",
    "first_launch_table = html_tables[2]\n",
    "#print(first_launch_table)"
   ]
  },
  {
   "cell_type": "code",
   "execution_count": 13,
   "id": "e689d897-e877-4381-9a79-987609f92e9b",
   "metadata": {},
   "outputs": [
    {
     "name": "stdout",
     "output_type": "stream",
     "text": [
      "['Flight No.', 'Date andtime (UTC)', 'Version,Booster [b]', 'Launch site', 'Payload[c]', 'Payload mass', 'Orbit', 'Customer', 'Launchoutcome', 'Boosterlanding']\n"
     ]
    }
   ],
   "source": [
    "column_names = []\n",
    "rows = []\n",
    "\n",
    "for i, row in enumerate(first_launch_table.find_all('tr')):\n",
    "    if i == 0:\n",
    "        column_names = [el.text.strip() for el in row.find_all('th')]\n",
    "    else:\n",
    "        rows.append([el.text.strip() for el in row.find_all('td')])\n",
    "\n",
    "print(column_names)"
   ]
  },
  {
   "cell_type": "code",
   "execution_count": 14,
   "id": "f08b7fe1-6e1c-4848-bc59-449430a10c7e",
   "metadata": {},
   "outputs": [],
   "source": [
    "column_names[1] = 'Date and time ( )'\n",
    "column_names[2] = 'Version Booster'\n",
    "column_names[4] = 'Payload'\n",
    "column_names[8] = 'Launch outcome'\n",
    "column_names[9] = 'Booster landing'"
   ]
  },
  {
   "cell_type": "code",
   "execution_count": 99,
   "id": "0c34e204-3338-4b7b-bb7f-98ec2bb6c59d",
   "metadata": {},
   "outputs": [],
   "source": [
    "launch_dict = dict.fromkeys(column_names)\n",
    "\n",
    "# Remove an irrelevant column\n",
    "del launch_dict['Date and time ( )']\n",
    "\n",
    "# Let's initial the launch_dict with each value to be an empty list\n",
    "launch_dict['Flight No.'] = []\n",
    "launch_dict['Version Booster'] = []\n",
    "launch_dict['Launch site'] = []\n",
    "launch_dict['Payload'] = []\n",
    "launch_dict['Payload mass'] = []\n",
    "launch_dict['Orbit'] = []\n",
    "launch_dict['Customer'] = []\n",
    "launch_dict['Launch outcome'] = []\n",
    "launch_dict['Booster landing'] = []\n",
    "# Added some new columns\n",
    "launch_dict['Date'] = []\n",
    "launch_dict['Time'] = []"
   ]
  },
  {
   "cell_type": "code",
   "execution_count": 100,
   "id": "8c0ac38f-e24a-4e26-9c17-0004977cba7f",
   "metadata": {},
   "outputs": [
    {
     "name": "stdout",
     "output_type": "stream",
     "text": [
      "{'Flight No.': [], 'Version Booster': [], 'Launch site': [], 'Payload': [], 'Payload mass': [], 'Orbit': [], 'Customer': [], 'Launch outcome': [], 'Booster landing': [], 'Date': [], 'Time': []}\n"
     ]
    }
   ],
   "source": [
    "print(launch_dict)"
   ]
  },
  {
   "cell_type": "code",
   "execution_count": 101,
   "id": "64d2319d-6f2f-4280-bba3-0f428f175085",
   "metadata": {},
   "outputs": [],
   "source": [
    "No, Date, Time, BV, LS, PL, PLM, Orbit, Customer, LO, BL = [], [], [], [], [], [], [], [], [], [], []"
   ]
  },
  {
   "cell_type": "code",
   "execution_count": 102,
   "id": "53eedb9e-da0f-4a75-a9a2-2f1c242d3858",
   "metadata": {},
   "outputs": [],
   "source": [
    "extracted_row = 0\n",
    "#Extract each table\n",
    "for table_number, table in enumerate(soup.find_all('table',\"wikitable plainrowheaders collapsible\")):\n",
    "   #get table row\n",
    "    for rows in table.find_all(\"tr\"):\n",
    "        #check to see if first table heading is as number corresponding to launch a number\n",
    "        if rows.th:\n",
    "            if rows.th.string:\n",
    "                flight_number=rows.th.string.strip()\n",
    "                flag=flight_number.isdigit()\n",
    "        else:\n",
    "            flag=False\n",
    "        #get table element\n",
    "        row=rows.find_all('td')\n",
    "        #if it is number save cells in a dictonary\n",
    "        if flag:\n",
    "            extracted_row += 1\n",
    "            \n",
    "            #print(flight_number)\n",
    "            datatimelist=date_time(row[0])\n",
    "            No.append(flight_number)\n",
    "            \n",
    "            \n",
    "            date = datatimelist[0].strip(',')\n",
    "            #print(date)\n",
    "            Date.append(date)\n",
    "            \n",
    "            \n",
    "            time = datatimelist[1]\n",
    "            #print(time)\n",
    "            Time.append(time)\n",
    "              \n",
    "            \n",
    "            bv=booster_version(row[1])\n",
    "            if not(bv):\n",
    "                bv=row[1].a.string\n",
    "            #print(bv)\n",
    "            BV.append(bv)\n",
    "            \n",
    "            \n",
    "            launch_site = row[2].a.string\n",
    "            #print(launch_site)\n",
    "            LS.append(launch_site)\n",
    "            \n",
    "            \n",
    "            payload = row[3].a.string\n",
    "            #print(payload)\n",
    "            PL.append(payload)\n",
    "            \n",
    "            \n",
    "            payload_mass = get_mass(row[4])\n",
    "            #print(payload_mass)\n",
    "            PLM.append(payload_mass)\n",
    "            \n",
    "            \n",
    "            orbit = row[5].a.string\n",
    "            #print(orbit)\n",
    "            Orbit.append(orbit)\n",
    "            \n",
    "            \n",
    "            customer = row[6]\n",
    "            #print(customer)\n",
    "            Customer.append(customer.text)\n",
    "            \n",
    "            \n",
    "            launch_outcome = list(row[7].strings)[0]\n",
    "            #print(launch_outcome)\n",
    "            LO.append(launch_outcome)\n",
    "            \n",
    "            \n",
    "            booster_landing = landing_status(row[8])\n",
    "            #print(booster_landing)\n",
    "            BL.append(booster_landing)"
   ]
  },
  {
   "cell_type": "code",
   "execution_count": 108,
   "id": "8207aecd-60d5-4ac2-8641-8f43d2f627e9",
   "metadata": {},
   "outputs": [],
   "source": [
    "launch_dict = {'No' : No, \n",
    "               'Date' : Date, \n",
    "               'Time' : Time, \n",
    "               'Version_Booster' : BV, \n",
    "               'Launch_site' : LS, \n",
    "               'Payload' : PL, \n",
    "               'Payload_mass' : PLM, \n",
    "               'Orbit' : Orbit, \n",
    "               'Customer' : Customer, \n",
    "               'Launch_outcome' : LO, \n",
    "               'Booster_landing' : BL,\n",
    "              }"
   ]
  },
  {
   "cell_type": "code",
   "execution_count": 110,
   "id": "54c6102c-b71f-4c01-9f85-a6f227db2aa3",
   "metadata": {},
   "outputs": [],
   "source": [
    "df = pd.DataFrame({ key:pd.Series(value) for key, value in launch_dict.items() })"
   ]
  },
  {
   "cell_type": "code",
   "execution_count": 112,
   "id": "ab22e8ed-6a59-4879-9b0a-edf1393f2067",
   "metadata": {},
   "outputs": [
    {
     "data": {
      "text/html": [
       "<div>\n",
       "<style scoped>\n",
       "    .dataframe tbody tr th:only-of-type {\n",
       "        vertical-align: middle;\n",
       "    }\n",
       "\n",
       "    .dataframe tbody tr th {\n",
       "        vertical-align: top;\n",
       "    }\n",
       "\n",
       "    .dataframe thead th {\n",
       "        text-align: right;\n",
       "    }\n",
       "</style>\n",
       "<table border=\"1\" class=\"dataframe\">\n",
       "  <thead>\n",
       "    <tr style=\"text-align: right;\">\n",
       "      <th></th>\n",
       "      <th>No</th>\n",
       "      <th>Date</th>\n",
       "      <th>Time</th>\n",
       "      <th>Version_Booster</th>\n",
       "      <th>Launch_site</th>\n",
       "      <th>Payload</th>\n",
       "      <th>Payload_mass</th>\n",
       "      <th>Orbit</th>\n",
       "      <th>Customer</th>\n",
       "      <th>Launch_outcome</th>\n",
       "      <th>Booster_landing</th>\n",
       "    </tr>\n",
       "  </thead>\n",
       "  <tbody>\n",
       "    <tr>\n",
       "      <th>0</th>\n",
       "      <td>1</td>\n",
       "      <td>4 June 2010</td>\n",
       "      <td>18:45</td>\n",
       "      <td>F9 v1.0B0003.1</td>\n",
       "      <td>CCAFS</td>\n",
       "      <td>Dragon Spacecraft Qualification Unit</td>\n",
       "      <td>0</td>\n",
       "      <td>LEO</td>\n",
       "      <td>SpaceX\\n</td>\n",
       "      <td>Success\\n</td>\n",
       "      <td>Failure</td>\n",
       "    </tr>\n",
       "    <tr>\n",
       "      <th>1</th>\n",
       "      <td>2</td>\n",
       "      <td>8 December 2010</td>\n",
       "      <td>15:43</td>\n",
       "      <td>F9 v1.0B0004.1</td>\n",
       "      <td>CCAFS</td>\n",
       "      <td>Dragon</td>\n",
       "      <td>0</td>\n",
       "      <td>LEO</td>\n",
       "      <td>\\nNASA (COTS)\\nNRO\\n\\n</td>\n",
       "      <td>Success</td>\n",
       "      <td>Failure</td>\n",
       "    </tr>\n",
       "    <tr>\n",
       "      <th>2</th>\n",
       "      <td>3</td>\n",
       "      <td>22 May 2012</td>\n",
       "      <td>07:44</td>\n",
       "      <td>F9 v1.0B0005.1</td>\n",
       "      <td>CCAFS</td>\n",
       "      <td>Dragon</td>\n",
       "      <td>525 kg</td>\n",
       "      <td>LEO</td>\n",
       "      <td>NASA (COTS)\\n</td>\n",
       "      <td>Success</td>\n",
       "      <td>Not attempted\\n</td>\n",
       "    </tr>\n",
       "    <tr>\n",
       "      <th>3</th>\n",
       "      <td>4</td>\n",
       "      <td>8 October 2012</td>\n",
       "      <td>00:35</td>\n",
       "      <td>F9 v1.0B0006.1</td>\n",
       "      <td>CCAFS</td>\n",
       "      <td>SpaceX CRS-1</td>\n",
       "      <td>4,700 kg</td>\n",
       "      <td>LEO</td>\n",
       "      <td>NASA (CRS)\\n</td>\n",
       "      <td>Success\\n</td>\n",
       "      <td>No attempt</td>\n",
       "    </tr>\n",
       "    <tr>\n",
       "      <th>4</th>\n",
       "      <td>5</td>\n",
       "      <td>1 March 2013</td>\n",
       "      <td>15:10</td>\n",
       "      <td>F9 v1.0B0007.1</td>\n",
       "      <td>CCAFS</td>\n",
       "      <td>SpaceX CRS-2</td>\n",
       "      <td>4,877 kg</td>\n",
       "      <td>LEO</td>\n",
       "      <td>NASA (CRS)\\n</td>\n",
       "      <td>Success\\n</td>\n",
       "      <td>Not attempted\\n</td>\n",
       "    </tr>\n",
       "  </tbody>\n",
       "</table>\n",
       "</div>"
      ],
      "text/plain": [
       "  No             Date   Time Version_Booster Launch_site  \\\n",
       "0  1      4 June 2010  18:45  F9 v1.0B0003.1       CCAFS   \n",
       "1  2  8 December 2010  15:43  F9 v1.0B0004.1       CCAFS   \n",
       "2  3      22 May 2012  07:44  F9 v1.0B0005.1       CCAFS   \n",
       "3  4   8 October 2012  00:35  F9 v1.0B0006.1       CCAFS   \n",
       "4  5     1 March 2013  15:10  F9 v1.0B0007.1       CCAFS   \n",
       "\n",
       "                                Payload Payload_mass Orbit  \\\n",
       "0  Dragon Spacecraft Qualification Unit            0   LEO   \n",
       "1                                Dragon            0   LEO   \n",
       "2                                Dragon       525 kg   LEO   \n",
       "3                          SpaceX CRS-1     4,700 kg   LEO   \n",
       "4                          SpaceX CRS-2     4,877 kg   LEO   \n",
       "\n",
       "                 Customer Launch_outcome  Booster_landing  \n",
       "0                SpaceX\\n      Success\\n          Failure  \n",
       "1  \\nNASA (COTS)\\nNRO\\n\\n        Success          Failure  \n",
       "2           NASA (COTS)\\n        Success  Not attempted\\n  \n",
       "3            NASA (CRS)\\n      Success\\n       No attempt  \n",
       "4            NASA (CRS)\\n      Success\\n  Not attempted\\n  "
      ]
     },
     "execution_count": 112,
     "metadata": {},
     "output_type": "execute_result"
    }
   ],
   "source": [
    "df.head()"
   ]
  },
  {
   "cell_type": "code",
   "execution_count": null,
   "id": "94cf9726-9663-4553-9ad6-06f17e1cde51",
   "metadata": {},
   "outputs": [],
   "source": [
    "df.to_csv('spacex_web_scraped.csv', index=False)"
   ]
  }
 ],
 "metadata": {
  "kernelspec": {
   "display_name": "Python 3 (ipykernel)",
   "language": "python",
   "name": "python3"
  },
  "language_info": {
   "codemirror_mode": {
    "name": "ipython",
    "version": 3
   },
   "file_extension": ".py",
   "mimetype": "text/x-python",
   "name": "python",
   "nbconvert_exporter": "python",
   "pygments_lexer": "ipython3",
   "version": "3.9.18"
  }
 },
 "nbformat": 4,
 "nbformat_minor": 5
}
