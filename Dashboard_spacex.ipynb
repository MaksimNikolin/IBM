{
 "cells": [
  {
   "cell_type": "markdown",
   "id": "0a205b1b-7819-4f76-8e00-53d50f0f7006",
   "metadata": {},
   "source": [
    "## **Dashboard with Plotly Dash**"
   ]
  },
  {
   "cell_type": "markdown",
   "id": "692ba094-4497-46da-bab0-73fff751cdd6",
   "metadata": {},
   "source": [
    "Before launching, you must download the latest versions of Panda, Dash and its components in advance"
   ]
  },
  {
   "cell_type": "code",
   "execution_count": 1,
   "id": "a8804ba3-6671-42eb-989b-1cf14bf4894a",
   "metadata": {},
   "outputs": [],
   "source": [
    "#conda install dash or pip install dash\n",
    "#conda install dash_core_components or pip install dash_core_components\n",
    "#conda install dash_html_components or pip install dash_html_components\n",
    "#conda install pandas or pip install pandas"
   ]
  },
  {
   "cell_type": "code",
   "execution_count": 2,
   "id": "af6d81e6-b9f7-41e3-a67b-9967b02b28f2",
   "metadata": {},
   "outputs": [],
   "source": [
    "import warnings\n",
    "warnings.filterwarnings(\"ignore\")"
   ]
  },
  {
   "cell_type": "code",
   "execution_count": 3,
   "id": "56b10a54-525a-4738-83c0-d4fb31f60650",
   "metadata": {},
   "outputs": [],
   "source": [
    "import pandas as pd\n",
    "import wget\n",
    "import dash\n",
    "import dash_core_components as dcc\n",
    "import dash_html_components as html\n",
    "from dash.dependencies import Input, Output\n",
    "import plotly.express as px"
   ]
  },
  {
   "cell_type": "code",
   "execution_count": 4,
   "id": "d452915f-5741-483a-b57f-1e50d75a90d0",
   "metadata": {},
   "outputs": [
    {
     "name": "stdout",
     "output_type": "stream",
     "text": [
      "Dash version:  2.14.2\n",
      "Dash_core_components version:  2.12.1\n",
      "Dash_html_components version:  2.0.15\n",
      "Dash version:  2.1.1\n"
     ]
    }
   ],
   "source": [
    "print('Dash version: ', dash.__version__)\n",
    "print('Dash_core_components version: ', dcc.__version__)\n",
    "print('Dash_html_components version: ', html.__version__)\n",
    "print('Dash version: ', pd.__version__)"
   ]
  },
  {
   "cell_type": "code",
   "execution_count": 5,
   "id": "a900740a-bd13-43da-8fa6-a8adaacdca7f",
   "metadata": {},
   "outputs": [
    {
     "name": "stdout",
     "output_type": "stream",
     "text": [
      "100% [................................................................................] 2476 / 2476"
     ]
    }
   ],
   "source": [
    "spacex_file = wget.download('https://cf-courses-data.s3.us.cloud-object-storage.appdomain.cloud/IBM-DS0321EN-SkillsNetwork/datasets/spacex_launch_dash.csv')"
   ]
  },
  {
   "cell_type": "code",
   "execution_count": 6,
   "id": "e71c58a8-35ab-4cbf-99d0-b9585343ce83",
   "metadata": {},
   "outputs": [],
   "source": [
    "spacex_df = pd.read_csv(spacex_file)\n",
    "max_payload = spacex_df['Payload Mass (kg)'].max()\n",
    "min_payload = spacex_df['Payload Mass (kg)'].min()"
   ]
  },
  {
   "cell_type": "code",
   "execution_count": null,
   "id": "1149fceb-c012-4480-a92e-0d0f21fb4f00",
   "metadata": {},
   "outputs": [],
   "source": [
    "app = dash.Dash(__name__)\n",
    "\n",
    "app.layout = html.Div(children=[html.H1('SpaceX Launch Records Dashboard', \n",
    "                                        style={'textAlign': 'center', 'color': '#503D36', 'font-size': 40},\n",
    "                                       ),\n",
    "                                dcc.Dropdown(id='site-dropdown', \n",
    "                                             options=[{'label': 'All Sites',     'value': 'ALL'},\n",
    "                                                      {'label': 'CCAFS LC-40',   'value': 'CCAFS LC-40'},\n",
    "                                                      {'label': 'CCAFS SLC-40',  'value': 'CCAFS SLC-40'},\n",
    "                                                      {'label': 'KSC LC-39A',    'value': 'KSC LC-39A'},\n",
    "                                                      {'label': 'VAFB SLC-4E',   'value': 'VAFB SLC-4E'},\n",
    "                                                      ],\n",
    "                                              searchable=True,\n",
    "                                              placeholder='Select a Launch Site here',\n",
    "                                              style={'width': '80%', 'padding': '3px','font-size': '20px', 'text-align-last': 'center'},\n",
    "                                            ),\n",
    "                                html.Br(),\n",
    "\n",
    "                                html.Div(dcc.Graph(id='success-pie-chart')),\n",
    "                                html.Br(),\n",
    "\n",
    "                                html.P(\"Payload range (Kg):\"),\n",
    "                                dcc.RangeSlider(id='payload-slider', \n",
    "                                                min=0, \n",
    "                                                max=10000,\n",
    "                                                step=1000, \n",
    "                                                value=[min_payload, max_payload]),\n",
    "                               \n",
    "                                html.Div(dcc.Graph(id='success-payload-scatter-chart')),\n",
    "                               ])\n",
    "                \n",
    "@app.callback(Output(component_id='success-pie-chart', component_property='figure'), \n",
    "              Input(component_id='site-dropdown', component_property='value'))\n",
    "            \n",
    "def get_graph(site_dropdown):\n",
    "    if site_dropdown == 'ALL':\n",
    "        piechart = px.pie(spacex_df,values='class', names='Launch Site', title=\"Success Launches for All Sites\") \n",
    "        return piechart\n",
    "    else:\n",
    "        filtered_df= spacex_df[spacex_df['Launch Site'] == site_dropdown]\n",
    "        filtered_df= filtered_df.groupby(['Launch Site', 'class']).size().reset_index(name='class count')\n",
    "        piechart = px.pie(filtered_df, values='class count', names='class', title=f\"Success Launches for site {site_dropdown}\")\n",
    "        return piechart\n",
    "\n",
    "@app.callback(Output(component_id='success-payload-scatter-chart', component_property='figure'),\n",
    "              Input(component_id='site-dropdown', component_property='value'),\n",
    "              Input(component_id='payload-slider', component_property='value'))\n",
    "\n",
    "def get_scatter(site_dropdown, slider_range):\n",
    "    low, high = slider_range\n",
    "    mask = (spacex_df['Payload Mass (kg)'] > low) & (spacex_df['Payload Mass (kg)'] < high)\n",
    "    filtered_df = spacex_df[mask] \n",
    "    if site_dropdown == 'ALL':\n",
    "        filtered_df = spacex_df[spacex_df['Launch Site'] == site_dropdown]\n",
    "        filtered_ddf = pd.DataFrame(filtered_df['Launch Site'])\n",
    "        fig = px.scatter(filtered_df, x=\"Payload Mass (kg)\", y=\"class\", color=\"Booster Version Category\", title=\"Payload vs Outcome for All Sites\")\n",
    "        return fig\n",
    "    else:\n",
    "        filtered_df1 = filtered_df[filtered_df['Launch Site'] == site_dropdown]\n",
    "        filtered_ddf1 = pd.DataFrame(filtered_df1['Launch Site'])\n",
    "        fig = px.scatter(filtered_df1, x=\"Payload Mass (kg)\", y=\"class\", color=\"Booster Version Category\", title=f\"Payload and Booster Versions for site {site_dropdown}\")\n",
    "        return fig\n",
    "    \n",
    "if __name__ == '__main__':\n",
    "    app.run_server()"
   ]
  },
  {
   "cell_type": "code",
   "execution_count": null,
   "id": "2956c73f-62ba-4eb9-9881-d15aeb8a47a8",
   "metadata": {},
   "outputs": [],
   "source": []
  }
 ],
 "metadata": {
  "kernelspec": {
   "display_name": "Python 3 (ipykernel)",
   "language": "python",
   "name": "python3"
  },
  "language_info": {
   "codemirror_mode": {
    "name": "ipython",
    "version": 3
   },
   "file_extension": ".py",
   "mimetype": "text/x-python",
   "name": "python",
   "nbconvert_exporter": "python",
   "pygments_lexer": "ipython3",
   "version": "3.9.18"
  }
 },
 "nbformat": 4,
 "nbformat_minor": 5
}
