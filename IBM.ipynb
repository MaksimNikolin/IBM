{
 "cells": [
  {
   "cell_type": "markdown",
   "id": "8ccfc6bd-cba1-4306-9f66-e2628ef3d123",
   "metadata": {},
   "source": [
    "![1](1.jpg)"
   ]
  },
  {
   "cell_type": "markdown",
   "id": "dd85ee4c-aab0-410d-b6d6-e88c9fccb880",
   "metadata": {},
   "source": [
    "![2](2.jpg)"
   ]
  },
  {
   "cell_type": "markdown",
   "id": "924b9d62-31d6-4408-89e0-579f175bf2d2",
   "metadata": {},
   "source": [
    "![3](3.jpg)"
   ]
  },
  {
   "cell_type": "markdown",
   "id": "107da682-fe69-4de7-81bb-e65728c37715",
   "metadata": {},
   "source": [
    "![4](4.jpg)"
   ]
  },
  {
   "cell_type": "markdown",
   "id": "b3fc6891-5b17-4f5b-a1f7-73f052d63e81",
   "metadata": {},
   "source": [
    "![5](5.jpg)"
   ]
  },
  {
   "cell_type": "markdown",
   "id": "f11ec779-9d65-45e3-b114-0d0c1bbc91b6",
   "metadata": {},
   "source": [
    "![6](6.jpg)"
   ]
  },
  {
   "cell_type": "code",
   "execution_count": null,
   "id": "71c7fb6f-826d-4c04-bb01-d130799700a2",
   "metadata": {},
   "outputs": [],
   "source": []
  }
 ],
 "metadata": {
  "kernelspec": {
   "display_name": "Python 3 (ipykernel)",
   "language": "python",
   "name": "python3"
  },
  "language_info": {
   "codemirror_mode": {
    "name": "ipython",
    "version": 3
   },
   "file_extension": ".py",
   "mimetype": "text/x-python",
   "name": "python",
   "nbconvert_exporter": "python",
   "pygments_lexer": "ipython3",
   "version": "3.9.18"
  }
 },
 "nbformat": 4,
 "nbformat_minor": 5
}
